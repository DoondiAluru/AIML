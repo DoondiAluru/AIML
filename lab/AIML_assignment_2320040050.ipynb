{
  "nbformat": 4,
  "nbformat_minor": 0,
  "metadata": {
    "colab": {
      "provenance": []
    },
    "kernelspec": {
      "name": "python3",
      "display_name": "Python 3"
    },
    "language_info": {
      "name": "python"
    }
  },
  "cells": [
    {
      "cell_type": "markdown",
      "source": [
        "Uninformed search technique\n",
        "BFS,\n",
        "DFS,\n",
        "IDFS"
      ],
      "metadata": {
        "id": "g_1KvjidVgxR"
      }
    },
    {
      "cell_type": "code",
      "source": [
        "L = [\n",
        "    ('P', ['Q', 'R']),\n",
        "    ('Q', ['S', 'T']),\n",
        "    ('R', ['U']),\n",
        "    ('S', []),\n",
        "    ('T', []),\n",
        "    ('U', [])\n",
        "]\n",
        "\n",
        "graph = {node: neighbors for node, neighbors in L}\n",
        "\n",
        "start = 'P'\n",
        "goal = 'T'\n",
        "queue = [[start]]\n",
        "visited = []\n",
        "\n",
        "while len(queue) > 0:\n",
        "    path = queue.pop(0)\n",
        "    node = path[-1]\n",
        "\n",
        "    if node in visited:\n",
        "        continue\n",
        "\n",
        "    visited.append(node)\n",
        "\n",
        "    if node == goal:\n",
        "        print(path)\n",
        "        break\n",
        "\n",
        "    for neighbor in graph[node]:\n",
        "        new_path = path + [neighbor]\n",
        "        queue.append(new_path)\n"
      ],
      "metadata": {
        "colab": {
          "base_uri": "https://localhost:8080/"
        },
        "id": "NmxAU0PHWeMA",
        "outputId": "0fb8e3ad-eb9d-4c1c-d450-74c32624a3ed"
      },
      "execution_count": null,
      "outputs": [
        {
          "output_type": "stream",
          "name": "stdout",
          "text": [
            "['P', 'Q', 'T']\n"
          ]
        }
      ]
    },
    {
      "cell_type": "code",
      "source": [
        "graph = {'P': ['Q', 'R'], 'Q': ['S', 'T'], 'R': ['U'], 'S': [], 'T': ['U'], 'U': []}\n",
        "start = 'P'\n",
        "\n",
        "stack = [start]\n",
        "visited = set()\n",
        "\n",
        "while stack:\n",
        "    node = stack.pop()\n",
        "    if node not in visited:\n",
        "        print(node, end=\" \")\n",
        "        visited.add(node)\n",
        "        stack.extend(reversed(graph[node]))\n"
      ],
      "metadata": {
        "colab": {
          "base_uri": "https://localhost:8080/"
        },
        "id": "TG8SJvUXXYTu",
        "outputId": "95266a3f-53ec-4d6e-9e4c-682a6bf69c83"
      },
      "execution_count": null,
      "outputs": [
        {
          "output_type": "stream",
          "name": "stdout",
          "text": [
            "P Q S T U R "
          ]
        }
      ]
    },
    {
      "cell_type": "code",
      "source": [
        "graph = {'P': ['Q', 'R'], 'Q': ['S', 'T'], 'R': ['U'], 'S': [], 'T': ['U'], 'U': []}\n",
        "\n",
        "def dfs_limited(node, depth):\n",
        "    stack = [(node, 0)]\n",
        "    visited = set()\n",
        "\n",
        "    while stack:\n",
        "        current, current_depth = stack.pop()\n",
        "        if current_depth > depth:\n",
        "            continue\n",
        "        if current not in visited:\n",
        "            print(current, end=\" \")\n",
        "            visited.add(current)\n",
        "            stack.extend((neighbor, current_depth + 1) for neighbor in reversed(graph[current]))\n",
        "\n",
        "def idfs(start, max_depth):\n",
        "    for depth in range(max_depth + 1):\n",
        "        print(f\"Depth {depth}: \", end=\"\")\n",
        "        dfs_limited(start, depth)\n",
        "        print()\n",
        "\n",
        "idfs('P', 3)\n"
      ],
      "metadata": {
        "colab": {
          "base_uri": "https://localhost:8080/"
        },
        "id": "X8sP8UCVZgnC",
        "outputId": "b438d602-b63e-4a27-f0fa-f9b8b53db6b9"
      },
      "execution_count": null,
      "outputs": [
        {
          "output_type": "stream",
          "name": "stdout",
          "text": [
            "Depth 0: P \n",
            "Depth 1: P Q R \n",
            "Depth 2: P Q S T R U \n",
            "Depth 3: P Q S T U R \n"
          ]
        }
      ]
    },
    {
      "cell_type": "markdown",
      "source": [
        "Informed Search Technique\n",
        "A*,Best First Search"
      ],
      "metadata": {
        "id": "NrriMcYYV2g8"
      }
    },
    {
      "cell_type": "code",
      "source": [
        "from queue import PriorityQueue\n",
        "\n",
        "graph = {\n",
        "    'A': [('B', 1), ('C', 4)],\n",
        "    'B': [('D', 1), ('E', 2)],\n",
        "    'C': [('F', 5)],\n",
        "    'D': [('G', 3)],\n",
        "    'E': [('G', 1)],\n",
        "    'F': [('G', 2)],\n",
        "    'G': []\n",
        "}\n",
        "\n",
        "h = {\n",
        "    'A': 10,\n",
        "    'B': 20,\n",
        "    'C': 30,\n",
        "    'D': 40,\n",
        "    'E': 50,\n",
        "    'F': 70,\n",
        "    'G': 0\n",
        "}\n",
        "\n",
        "start = 'A'\n",
        "goal = 'G'\n",
        "\n",
        "open_set = PriorityQueue()\n",
        "open_set.put((0 + h[start], start))\n",
        "came_from = {}\n",
        "g_score = {node: float('inf') for node in graph}\n",
        "g_score[start] = 0\n",
        "f_score = {node: float('inf') for node in graph}\n",
        "f_score[start] = h[start]\n",
        "\n",
        "while not open_set.empty():\n",
        "    _, current = open_set.get()\n",
        "\n",
        "    if current == goal:\n",
        "        path = []\n",
        "        while current in came_from:\n",
        "            path.append(current)\n",
        "            current = came_from[current]\n",
        "        path.append(start)\n",
        "        path.reverse()\n",
        "        print(\"Path found:\", path)\n",
        "        break\n",
        "\n",
        "    for neighbor, cost in graph[current]:\n",
        "        tentative_g_score = g_score[current] + cost\n",
        "        if tentative_g_score < g_score[neighbor]:\n",
        "            came_from[neighbor] = current\n",
        "            g_score[neighbor] = tentative_g_score\n",
        "            f_score[neighbor] = tentative_g_score + h[neighbor]\n",
        "            open_set.put((f_score[neighbor], neighbor))\n",
        "else:\n",
        "    print(\"No path found\")\n"
      ],
      "metadata": {
        "id": "qVwIZVCvWfgI"
      },
      "execution_count": null,
      "outputs": []
    },
    {
      "cell_type": "code",
      "source": [
        "from queue import PriorityQueue\n",
        "\n",
        "graph = {\n",
        "    'A': [('B', 1), ('C', 4)],\n",
        "    'B': [('D', 1), ('E', 2)],\n",
        "    'C': [('F', 5)],\n",
        "    'D': [('G', 3)],\n",
        "    'E': [('G', 1)],\n",
        "    'F': [('G', 2)],\n",
        "    'G': []\n",
        "}\n",
        "\n",
        "h = {\n",
        "    'A': 10,\n",
        "    'B': 20,\n",
        "    'C': 30,\n",
        "    'D': 40,\n",
        "    'E': 50,\n",
        "    'F': 70,\n",
        "    'G': 0\n",
        "}\n",
        "\n",
        "start = 'A'\n",
        "goal = 'G'\n",
        "\n",
        "open_set = PriorityQueue()\n",
        "open_set.put((h[start], start))\n",
        "visited = set()\n",
        "\n",
        "while not open_set.empty():\n",
        "    _, current = open_set.get()\n",
        "\n",
        "    if current in visited:\n",
        "        continue\n",
        "\n",
        "    if current == goal:\n",
        "        print(\"Goal reached:\", current)\n",
        "        break\n",
        "\n",
        "    visited.add(current)\n",
        "\n",
        "    for neighbor, _ in graph[current]:\n",
        "        if neighbor not in visited:\n",
        "            open_set.put((h[neighbor], neighbor))\n",
        "else:\n",
        "    print(\"No path found\")\n"
      ],
      "metadata": {
        "colab": {
          "base_uri": "https://localhost:8080/"
        },
        "id": "d7zB5Xqrb2zJ",
        "outputId": "c72a8b76-a5a3-4b03-d824-ff1498576254"
      },
      "execution_count": null,
      "outputs": [
        {
          "output_type": "stream",
          "name": "stdout",
          "text": [
            "Goal reached: G\n"
          ]
        }
      ]
    },
    {
      "cell_type": "markdown",
      "source": [
        "Adversal Search\n",
        "min-max,alpha-beta pruning"
      ],
      "metadata": {
        "id": "GVMHJf57WBf2"
      }
    },
    {
      "cell_type": "code",
      "source": [
        "\n",
        "game_tree = {\n",
        "    'value': 0,\n",
        "    'children': [\n",
        "        {'value': 0, 'children': [\n",
        "            {'value': 30, 'children': []},\n",
        "            {'value': 58, 'children': []}\n",
        "        ]},\n",
        "        {'value': 0, 'children': [\n",
        "            {'value': 24, 'children': []},\n",
        "            {'value': 90, 'children': []}\n",
        "        ]}\n",
        "    ]\n",
        "}\n",
        "\n",
        "depth = 2\n",
        "is_maximizing = True\n",
        "\n",
        "stack = [(game_tree, depth, is_maximizing)]\n",
        "best_value = float('-inf') if is_maximizing else float('inf')\n",
        "\n",
        "while stack:\n",
        "    node, current_depth, is_max = stack.pop()\n",
        "\n",
        "    if current_depth == 0 or not node['children']:\n",
        "        if is_max:\n",
        "            best_value = max(best_value, node['value'])\n",
        "        else:\n",
        "            best_value = min(best_value, node['value'])\n",
        "    else:\n",
        "        for child in node['children']:\n",
        "            stack.append((child, current_depth - 1, not is_max))\n",
        "\n",
        "print(\"Best value for maximizing player:\", best_value)\n"
      ],
      "metadata": {
        "colab": {
          "base_uri": "https://localhost:8080/"
        },
        "id": "oXB7o7CrWgSH",
        "outputId": "ccd6805c-d159-4a40-cd51-d2b844a4ca56"
      },
      "execution_count": null,
      "outputs": [
        {
          "output_type": "stream",
          "name": "stdout",
          "text": [
            "Best value for maximizing player: 90\n"
          ]
        }
      ]
    },
    {
      "cell_type": "code",
      "source": [
        "game_tree = {\n",
        "    'value': 0,\n",
        "    'children': [\n",
        "        {'value': 0, 'children': [\n",
        "            {'value': 3, 'children': []},\n",
        "            {'value': 5, 'children': []}\n",
        "        ]},\n",
        "        {'value': 0, 'children': [\n",
        "            {'value': 2, 'children': []},\n",
        "            {'value': 9, 'children': []}\n",
        "        ]}\n",
        "    ]\n",
        "}\n",
        "\n",
        "depth = 2\n",
        "is_maximizing = True\n",
        "alpha = float('-inf')\n",
        "beta = float('inf')\n",
        "best_value = float('-inf') if is_maximizing else float('inf')\n",
        "\n",
        "stack = [(game_tree, depth, is_maximizing, alpha, beta)]\n",
        "\n",
        "while stack:\n",
        "    node, current_depth, is_max, alpha, beta = stack.pop()\n",
        "\n",
        "    if current_depth == 0 or not node['children']:\n",
        "\n",
        "        value = node['value']\n",
        "        if is_max:\n",
        "            best_value = max(best_value, value)\n",
        "        else:\n",
        "            best_value = min(best_value, value)\n",
        "    else:\n",
        "        if is_max:\n",
        "            max_eval = float('-inf')\n",
        "            for child in node['children']:\n",
        "                stack.append((child, current_depth - 1, False, alpha, beta))\n",
        "\n",
        "                if max_eval >= beta:\n",
        "                    break\n",
        "                max_eval = max(max_eval, best_value)\n",
        "                alpha = max(alpha, max_eval)\n",
        "            best_value = max_eval\n",
        "        else:\n",
        "            min_eval = float('inf')\n",
        "            for child in node['children']:\n",
        "                stack.append((child, current_depth - 1, True, alpha, beta))\n",
        "\n",
        "                if min_eval <= alpha:\n",
        "                    break\n",
        "                min_eval = min(min_eval, best_value)\n",
        "                beta = min(beta, min_eval)\n",
        "            best_value = min_eval\n",
        "\n",
        "print(\"Best value for maximizing player:\", best_value)\n"
      ],
      "metadata": {
        "colab": {
          "base_uri": "https://localhost:8080/"
        },
        "id": "xvFUDk-HdAuq",
        "outputId": "9ea65524-1602-46f7-d1a3-a19d36758735"
      },
      "execution_count": null,
      "outputs": [
        {
          "output_type": "stream",
          "name": "stdout",
          "text": [
            "Best value for maximizing player: 9\n"
          ]
        }
      ]
    }
  ]
}